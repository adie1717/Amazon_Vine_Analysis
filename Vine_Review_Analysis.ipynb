{
  "nbformat": 4,
  "nbformat_minor": 0,
  "metadata": {
    "colab": {
      "name": "Vine_Review_Analysis.ipynb",
      "provenance": [],
      "collapsed_sections": []
    },
    "kernelspec": {
      "name": "python3",
      "display_name": "Python 3"
    },
    "language_info": {
      "name": "python"
    }
  },
  "cells": [
    {
      "cell_type": "code",
      "execution_count": 3,
      "metadata": {
        "colab": {
          "base_uri": "https://localhost:8080/"
        },
        "id": "247H_e69Ha0s",
        "outputId": "fdb02f17-ea5d-4738-8160-8c547ba3d656"
      },
      "outputs": [
        {
          "output_type": "stream",
          "name": "stdout",
          "text": [
            "\r0% [Working]\r            \rHit:1 https://cloud.r-project.org/bin/linux/ubuntu bionic-cran40/ InRelease\n",
            "\r0% [Connecting to archive.ubuntu.com] [Connecting to security.ubuntu.com] [Wait\r0% [1 InRelease gpgv 3,626 B] [Connecting to archive.ubuntu.com] [Connecting to\r                                                                               \rIgn:2 https://developer.download.nvidia.com/compute/machine-learning/repos/ubuntu1804/x86_64  InRelease\n",
            "\r0% [1 InRelease gpgv 3,626 B] [Connecting to archive.ubuntu.com] [Connecting to\r                                                                               \rHit:3 https://developer.download.nvidia.com/compute/cuda/repos/ubuntu1804/x86_64  InRelease\n",
            "Hit:4 https://developer.download.nvidia.com/compute/machine-learning/repos/ubuntu1804/x86_64  Release\n",
            "Hit:5 http://ppa.launchpad.net/c2d4u.team/c2d4u4.0+/ubuntu bionic InRelease\n",
            "Hit:6 http://security.ubuntu.com/ubuntu bionic-security InRelease\n",
            "Hit:7 http://archive.ubuntu.com/ubuntu bionic InRelease\n",
            "Hit:9 http://ppa.launchpad.net/cran/libgit2/ubuntu bionic InRelease\n",
            "Hit:10 http://archive.ubuntu.com/ubuntu bionic-updates InRelease\n",
            "Hit:11 http://archive.ubuntu.com/ubuntu bionic-backports InRelease\n",
            "Hit:12 http://ppa.launchpad.net/deadsnakes/ppa/ubuntu bionic InRelease\n",
            "Hit:13 http://ppa.launchpad.net/graphics-drivers/ppa/ubuntu bionic InRelease\n",
            "Reading package lists... Done\n"
          ]
        }
      ],
      "source": [
        "import os\n",
        "# Find the latest version of spark 3.0 from http://www.apache.org/dist/spark/ and enter as the spark version\n",
        "# For example:\n",
        "# spark_version = 'spark-3.0.3'\n",
        "spark_version = 'spark-3.0.3'\n",
        "os.environ['SPARK_VERSION']=spark_version\n",
        "\n",
        "# Install Spark and Java\n",
        "!apt-get update\n",
        "!apt-get install openjdk-11-jdk-headless -qq > /dev/null\n",
        "!wget -q http://www.apache.org/dist/spark/$SPARK_VERSION/$SPARK_VERSION-bin-hadoop2.7.tgz\n",
        "!tar xf $SPARK_VERSION-bin-hadoop2.7.tgz\n",
        "!pip install -q findspark\n",
        "\n",
        "# Set Environment Variables\n",
        "import os\n",
        "os.environ[\"JAVA_HOME\"] = \"/usr/lib/jvm/java-11-openjdk-amd64\"\n",
        "os.environ[\"SPARK_HOME\"] = f\"/content/{spark_version}-bin-hadoop2.7\"\n",
        "\n",
        "# Start a SparkSession\n",
        "import findspark\n",
        "findspark.init()\n",
        "\n",
        "\n",
        "from pyspark.sql import SparkSession\n",
        "spark = SparkSession.builder.appName(\"M16-Amazon-Challenge\").config(\"spark.driver.extraClassPath\",\"/content/postgresql-42.2.16.jar\").getOrCreate()\n"
      ]
    },
    {
      "cell_type": "code",
      "source": [
        "from pyspark import SparkFiles\n",
        "url = \"https://adies-bucket.s3.us-west-2.amazonaws.com/Data+test/amazonreviewsApparel.tsv\"\n",
        "spark.sparkContext.addFile(url)\n",
        "df = spark.read.option(\"encoding\", \"UTF-8\").csv(SparkFiles.get(\"amazonreviewsApparel.tsv\"), sep=\"\\t\", header=True, inferSchema=True)\n",
        "df.show()"
      ],
      "metadata": {
        "colab": {
          "base_uri": "https://localhost:8080/"
        },
        "id": "-Nj4EnNUH6xU",
        "outputId": "24c0a119-df5a-44e5-b1d7-ac77b7028d8f"
      },
      "execution_count": 4,
      "outputs": [
        {
          "output_type": "stream",
          "name": "stdout",
          "text": [
            "+-----------+-----------+--------------+----------+--------------+--------------------+----------------+-----------+-------------+-----------+----+-----------------+--------------------+--------------------+-----------+\n",
            "|marketplace|customer_id|     review_id|product_id|product_parent|       product_title|product_category|star_rating|helpful_votes|total_votes|vine|verified_purchase|     review_headline|         review_body|review_date|\n",
            "+-----------+-----------+--------------+----------+--------------+--------------------+----------------+-----------+-------------+-----------+----+-----------------+--------------------+--------------------+-----------+\n",
            "|         US|   32158956|R1KKOXHNI8MSXU|B01KL6O72Y|      24485154|Easy Tool Stainle...|         Apparel|          4|            0|          0|   N|                Y|★ THESE REALLY DO...|These Really Do W...| 2013-01-14|\n",
            "|         US|    2714559|R26SP2OPDK4HT7|B01ID3ZS5W|     363128556|V28 Women Cowl Ne...|         Apparel|          5|            1|          2|   N|                Y|Favorite for wint...|I love this dress...| 2014-03-04|\n",
            "|         US|   12608825| RWQEDYAX373I1|B01I497BGY|     811958549|James Fiallo Men'...|         Apparel|          5|            0|          0|   N|                Y|Great Socks for t...|Nice socks, great...| 2015-07-12|\n",
            "|         US|   25482800|R231YI7R4GPF6J|B01HDXFZK6|     692205728|Belfry Gangster 1...|         Apparel|          5|            0|          0|   N|                Y|          Slick hat!|I bought this for...| 2015-06-03|\n",
            "|         US|    9310286|R3KO3W45DD0L1K|B01G6MBEBY|     431150422|JAEDEN Women's Be...|         Apparel|          5|            0|          0|   N|                Y|I would do it again!|Perfect dress and...| 2015-06-12|\n",
            "|         US|   26631939|R1C4QH63NFL5NJ|B01FWRXN0Y|     366144407|Levi's Boys' 514 ...|         Apparel|          5|            0|          0|   N|                Y|          Five Stars|Excellent for my ...| 2014-04-22|\n",
            "|         US|   48785098|R2GP65O1U9N7BP|B01EXNH1HE|     786052021|Minimalist Wallet...|         Apparel|          5|            0|          0|   N|                Y|            Love it!|Raw is the only w...| 2015-07-28|\n",
            "|         US|   39548589|R3O29CT5MQQ3XQ|B01E7OL09O|     108920964|Harriton Men's Ba...|         Apparel|          4|            0|          0|   N|                Y|         Three Stars|        A bit large.| 2015-07-10|\n",
            "|         US|   29355866|R1ZECD2AA8QFF6|B01DXHX81O|     317132458|Jockey Women's Un...|         Apparel|          5|            0|          0|   N|                Y|          Five Stars|          Great fit!| 2015-08-09|\n",
            "|         US|   27477484|R2S79GCF6J89OA|B01DDULIJK|     110598191|Alexander Del Ros...|         Apparel|          3|            0|          0|   N|                Y|    Not my favorite.|Shirt a bit too l...| 2014-05-24|\n",
            "|         US|   17685865|R1CBCUGNP37MPK|B01BOKOL4A|     121408017|Jockey Women's Un...|         Apparel|          5|            0|          0|   N|                Y|The Jockey Women'...|The Jockey Women'...| 2015-06-10|\n",
            "|         US|   19787539|R3NU4WUR5ZNV1V|B01B3Q4Q0O|     134506082|Bali Passion For ...|         Apparel|          5|            0|          0|   N|                Y|          Five Stars|cup size is just ...| 2013-09-06|\n",
            "|         US|   44196725|R32EPCJ3XF8LGE|B01ADDSL9U|     747539045|Lilyette Women's ...|         Apparel|          5|            0|          0|   N|                Y|          Five Stars|          Perfect...| 2014-11-17|\n",
            "|         US|   45510794|R1XIBC6WQBW31M|B019P1X5XI|     696379847|Vanity Fair Women...|         Apparel|          5|            0|          0|   N|                Y|best ever4 for me...|best  ever4 for m...| 2013-05-12|\n",
            "|         US|   42025740|R1P11MVDZ65LMH|B019MDXIXG|     387286513|Warner's Women's ...|         Apparel|          5|            0|          0|   N|                Y|          Five Stars|          Great fit.| 2014-02-14|\n",
            "|         US|   27097189|R1OJA3DJL0VDDK|B019438FEG|     764190574|Columbia Women's ...|         Apparel|          5|            0|          0|   N|                Y|          Five Stars|I have this Colum...| 2014-10-20|\n",
            "|         US|   13808904|R1THWA5YRJLOOF|B0178HGNIA|     816266887|Robes King RK Cla...|         Apparel|          4|            0|          0|   N|                Y|          Four Stars|My husband found ...| 2015-07-05|\n",
            "|         US|   30225894| R738LCNRSJVXP|B016VIU0QI|     323924698|VIV Collection Be...|         Apparel|          5|            6|          7|   N|                Y|   Awesome leggings!|Awesome leggings!...| 2015-07-29|\n",
            "|         US|   45223824|R1N3Z13931J3O9|B016PUU3VO|     893588059|Fruit of the Loom...|         Apparel|          2|            0|          0|   N|                Y|Sizes not correct...|I ordered the sam...| 2015-01-01|\n",
            "|         US|   22300783|R1LBNTP7E8N89Z|B016AQNDM4|     917361125|Jockey Scrubs Wom...|         Apparel|          1|            0|          0|   N|                Y|            One Star| not exact in sizing| 2015-02-12|\n",
            "+-----------+-----------+--------------+----------+--------------+--------------------+----------------+-----------+-------------+-----------+----+-----------------+--------------------+--------------------+-----------+\n",
            "only showing top 20 rows\n",
            "\n"
          ]
        }
      ]
    },
    {
      "cell_type": "code",
      "source": [
        "# Create the vine_table. DataFrame\n",
        "vine_df = df.select([\"review_id\", \"star_rating\", \"helpful_votes\", \"total_votes\", \"vine\", \"verified_purchase\"])\n",
        "vine_df.show()"
      ],
      "metadata": {
        "colab": {
          "base_uri": "https://localhost:8080/"
        },
        "id": "F3NIh8hEIB0H",
        "outputId": "d322d71b-ba7c-45e9-8ae6-e4b0a65b9be1"
      },
      "execution_count": 5,
      "outputs": [
        {
          "output_type": "stream",
          "name": "stdout",
          "text": [
            "+--------------+-----------+-------------+-----------+----+-----------------+\n",
            "|     review_id|star_rating|helpful_votes|total_votes|vine|verified_purchase|\n",
            "+--------------+-----------+-------------+-----------+----+-----------------+\n",
            "|R1KKOXHNI8MSXU|          4|            0|          0|   N|                Y|\n",
            "|R26SP2OPDK4HT7|          5|            1|          2|   N|                Y|\n",
            "| RWQEDYAX373I1|          5|            0|          0|   N|                Y|\n",
            "|R231YI7R4GPF6J|          5|            0|          0|   N|                Y|\n",
            "|R3KO3W45DD0L1K|          5|            0|          0|   N|                Y|\n",
            "|R1C4QH63NFL5NJ|          5|            0|          0|   N|                Y|\n",
            "|R2GP65O1U9N7BP|          5|            0|          0|   N|                Y|\n",
            "|R3O29CT5MQQ3XQ|          4|            0|          0|   N|                Y|\n",
            "|R1ZECD2AA8QFF6|          5|            0|          0|   N|                Y|\n",
            "|R2S79GCF6J89OA|          3|            0|          0|   N|                Y|\n",
            "|R1CBCUGNP37MPK|          5|            0|          0|   N|                Y|\n",
            "|R3NU4WUR5ZNV1V|          5|            0|          0|   N|                Y|\n",
            "|R32EPCJ3XF8LGE|          5|            0|          0|   N|                Y|\n",
            "|R1XIBC6WQBW31M|          5|            0|          0|   N|                Y|\n",
            "|R1P11MVDZ65LMH|          5|            0|          0|   N|                Y|\n",
            "|R1OJA3DJL0VDDK|          5|            0|          0|   N|                Y|\n",
            "|R1THWA5YRJLOOF|          4|            0|          0|   N|                Y|\n",
            "| R738LCNRSJVXP|          5|            6|          7|   N|                Y|\n",
            "|R1N3Z13931J3O9|          2|            0|          0|   N|                Y|\n",
            "|R1LBNTP7E8N89Z|          1|            0|          0|   N|                Y|\n",
            "+--------------+-----------+-------------+-----------+----+-----------------+\n",
            "only showing top 20 rows\n",
            "\n"
          ]
        }
      ]
    },
    {
      "cell_type": "code",
      "source": [
        "# Filter\n",
        "df.filter(\"total_votes<20\").show(5)"
      ],
      "metadata": {
        "colab": {
          "base_uri": "https://localhost:8080/"
        },
        "id": "021LDW0zIskd",
        "outputId": "a2f10ad8-d091-4e77-a4e8-43eee76d12e6"
      },
      "execution_count": 10,
      "outputs": [
        {
          "output_type": "stream",
          "name": "stdout",
          "text": [
            "+-----------+-----------+--------------+----------+--------------+--------------------+----------------+-----------+-------------+-----------+----+-----------------+--------------------+--------------------+-----------+\n",
            "|marketplace|customer_id|     review_id|product_id|product_parent|       product_title|product_category|star_rating|helpful_votes|total_votes|vine|verified_purchase|     review_headline|         review_body|review_date|\n",
            "+-----------+-----------+--------------+----------+--------------+--------------------+----------------+-----------+-------------+-----------+----+-----------------+--------------------+--------------------+-----------+\n",
            "|         US|   32158956|R1KKOXHNI8MSXU|B01KL6O72Y|      24485154|Easy Tool Stainle...|         Apparel|          4|            0|          0|   N|                Y|★ THESE REALLY DO...|These Really Do W...| 2013-01-14|\n",
            "|         US|    2714559|R26SP2OPDK4HT7|B01ID3ZS5W|     363128556|V28 Women Cowl Ne...|         Apparel|          5|            1|          2|   N|                Y|Favorite for wint...|I love this dress...| 2014-03-04|\n",
            "|         US|   12608825| RWQEDYAX373I1|B01I497BGY|     811958549|James Fiallo Men'...|         Apparel|          5|            0|          0|   N|                Y|Great Socks for t...|Nice socks, great...| 2015-07-12|\n",
            "|         US|   25482800|R231YI7R4GPF6J|B01HDXFZK6|     692205728|Belfry Gangster 1...|         Apparel|          5|            0|          0|   N|                Y|          Slick hat!|I bought this for...| 2015-06-03|\n",
            "|         US|    9310286|R3KO3W45DD0L1K|B01G6MBEBY|     431150422|JAEDEN Women's Be...|         Apparel|          5|            0|          0|   N|                Y|I would do it again!|Perfect dress and...| 2015-06-12|\n",
            "+-----------+-----------+--------------+----------+--------------+--------------------+----------------+-----------+-------------+-----------+----+-----------------+--------------------+--------------------+-----------+\n",
            "only showing top 5 rows\n",
            "\n"
          ]
        }
      ]
    },
    {
      "cell_type": "code",
      "source": [
        "# Filter\n",
        "df.filter(\"vine=True\").show(5)"
      ],
      "metadata": {
        "colab": {
          "base_uri": "https://localhost:8080/"
        },
        "id": "DngLAiOvKVAa",
        "outputId": "9d043be2-a192-4eca-8460-a0b5a56fe058"
      },
      "execution_count": 11,
      "outputs": [
        {
          "output_type": "stream",
          "name": "stdout",
          "text": [
            "+-----------+-----------+--------------+----------+--------------+--------------------+----------------+-----------+-------------+-----------+----+-----------------+--------------------+--------------------+-----------+\n",
            "|marketplace|customer_id|     review_id|product_id|product_parent|       product_title|product_category|star_rating|helpful_votes|total_votes|vine|verified_purchase|     review_headline|         review_body|review_date|\n",
            "+-----------+-----------+--------------+----------+--------------+--------------------+----------------+-----------+-------------+-----------+----+-----------------+--------------------+--------------------+-----------+\n",
            "|         US|   34571698|R2S3OT2TGTNLRT|B00YLOQ82A|     506245037|Genuine Little Gi...|         Apparel|          4|            1|          1|   Y|                N|Good shorts for s...|If your child goe...| 2015-07-31|\n",
            "|         US|   26861710| R1YUILMCVON7J|B00YJ5ASMC|     506245037|Genuine Little Gi...|         Apparel|          2|            1|          1|   Y|                N|Too small and the...|The material in t...| 2015-08-28|\n",
            "|         US|   40581989| R2039OSLK2OAW|B00YJ5ASMC|     506245037|Genuine Little Gi...|         Apparel|          3|            1|          1|   Y|                N|Not Just A Unifor...|My granddaughter ...| 2015-08-26|\n",
            "|         US|   14016926| R8T7CLRNUA19L|B00YHE5ED8|     323576435|Genuine Big Boys'...|         Apparel|          1|            1|          1|   Y|                N|Great value IF yo...|I wasn't impresse...| 2015-08-15|\n",
            "|         US|   13797074|R1WBILU1035YWZ|B00YHE5ED8|     323576435|Genuine Big Boys'...|         Apparel|          5|            7|          7|   Y|                N|Quality Great Pri...|My 7 year old wea...| 2015-08-01|\n",
            "+-----------+-----------+--------------+----------+--------------+--------------------+----------------+-----------+-------------+-----------+----+-----------------+--------------------+--------------------+-----------+\n",
            "only showing top 5 rows\n",
            "\n"
          ]
        }
      ]
    },
    {
      "cell_type": "code",
      "source": [
        "# Filter\n",
        "df.filter(\"vine=False\").show(5)"
      ],
      "metadata": {
        "colab": {
          "base_uri": "https://localhost:8080/"
        },
        "id": "w_j9Oa8oK5ak",
        "outputId": "6972986b-723d-41b3-ae2b-706059a9ce6f"
      },
      "execution_count": 12,
      "outputs": [
        {
          "output_type": "stream",
          "name": "stdout",
          "text": [
            "+-----------+-----------+--------------+----------+--------------+--------------------+----------------+-----------+-------------+-----------+----+-----------------+--------------------+--------------------+-----------+\n",
            "|marketplace|customer_id|     review_id|product_id|product_parent|       product_title|product_category|star_rating|helpful_votes|total_votes|vine|verified_purchase|     review_headline|         review_body|review_date|\n",
            "+-----------+-----------+--------------+----------+--------------+--------------------+----------------+-----------+-------------+-----------+----+-----------------+--------------------+--------------------+-----------+\n",
            "|         US|   32158956|R1KKOXHNI8MSXU|B01KL6O72Y|      24485154|Easy Tool Stainle...|         Apparel|          4|            0|          0|   N|                Y|★ THESE REALLY DO...|These Really Do W...| 2013-01-14|\n",
            "|         US|    2714559|R26SP2OPDK4HT7|B01ID3ZS5W|     363128556|V28 Women Cowl Ne...|         Apparel|          5|            1|          2|   N|                Y|Favorite for wint...|I love this dress...| 2014-03-04|\n",
            "|         US|   12608825| RWQEDYAX373I1|B01I497BGY|     811958549|James Fiallo Men'...|         Apparel|          5|            0|          0|   N|                Y|Great Socks for t...|Nice socks, great...| 2015-07-12|\n",
            "|         US|   25482800|R231YI7R4GPF6J|B01HDXFZK6|     692205728|Belfry Gangster 1...|         Apparel|          5|            0|          0|   N|                Y|          Slick hat!|I bought this for...| 2015-06-03|\n",
            "|         US|    9310286|R3KO3W45DD0L1K|B01G6MBEBY|     431150422|JAEDEN Women's Be...|         Apparel|          5|            0|          0|   N|                Y|I would do it again!|Perfect dress and...| 2015-06-12|\n",
            "+-----------+-----------+--------------+----------+--------------+--------------------+----------------+-----------+-------------+-----------+----+-----------------+--------------------+--------------------+-----------+\n",
            "only showing top 5 rows\n",
            "\n"
          ]
        }
      ]
    },
    {
      "cell_type": "code",
      "source": [
        "df.agg({'total_votes': 'sum'}).show()"
      ],
      "metadata": {
        "colab": {
          "base_uri": "https://localhost:8080/"
        },
        "id": "t4jYuUQiM4Ty",
        "outputId": "a3fd149b-ca5d-4f16-ad46-3075aa338d9d"
      },
      "execution_count": 20,
      "outputs": [
        {
          "output_type": "stream",
          "name": "stdout",
          "text": [
            "+----------------+\n",
            "|sum(total_votes)|\n",
            "+----------------+\n",
            "|         6885839|\n",
            "+----------------+\n",
            "\n"
          ]
        }
      ]
    }
  ]
}